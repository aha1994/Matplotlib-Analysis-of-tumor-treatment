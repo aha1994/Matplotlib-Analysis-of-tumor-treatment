{
 "cells": [
  {
   "cell_type": "code",
   "execution_count": 29,
   "metadata": {},
   "outputs": [
    {
     "data": {
      "text/plain": [
       "Mouse ID    0.478596\n",
       "dtype: float64"
      ]
     },
     "execution_count": 29,
     "metadata": {},
     "output_type": "execute_result"
    }
   ],
   "source": [
    "import matplotlib.pyplot as plt\n",
    "import pandas as pd\n",
    "import numpy as np\n",
    "import scipy.stats\n",
    "import warnings\n",
    "warnings.filterwarnings('ignore')\n",
    "\n",
    "mouse_drug_data_to_load = \"data/mouse_drug_data.csv\"\n",
    "clinical_trial_data_to_load = \"data/clinicaltrial_data.csv\"\n",
    "\n",
    "mouseDF =pd.read_csv(mouse_drug_data_to_load)\n",
    "clinicalDF = pd.read_csv(clinical_trial_data_to_load)\n",
    "drug_timeGroup = totalDF.groupby(['Drug', 'Timepoint'])\n",
    "drug_timeDF = pd.DataFrame(drug_timeGroup['Tumor Volume (mm3)'].mean())\n",
    "\n",
    "totalDF = pd.merge(clinicalDF, mouseDF, on='Mouse ID', how='outer')\n",
    "totalDF.head()\n",
    "\n",
    "mouse_count = drug_timeGroup['Mouse ID'].count()\n",
    "mouse_countDF= pd.DataFrame(mouse_count)\n",
    "mouse_countDF.sem()"
   ]
  },
  {
   "cell_type": "code",
   "execution_count": null,
   "metadata": {},
   "outputs": [],
   "source": []
  }
 ],
 "metadata": {
  "kernelspec": {
   "display_name": "Python 3",
   "language": "python",
   "name": "python3"
  },
  "language_info": {
   "codemirror_mode": {
    "name": "ipython",
    "version": 3
   },
   "file_extension": ".py",
   "mimetype": "text/x-python",
   "name": "python",
   "nbconvert_exporter": "python",
   "pygments_lexer": "ipython3",
   "version": "3.7.3"
  }
 },
 "nbformat": 4,
 "nbformat_minor": 4
}
